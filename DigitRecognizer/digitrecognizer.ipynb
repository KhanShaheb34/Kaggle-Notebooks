{
 "cells": [
  {
   "cell_type": "code",
   "execution_count": 1,
   "metadata": {
    "_cell_guid": "b1076dfc-b9ad-4769-8c92-a6c4dae69d19",
    "_uuid": "8f2839f25d086af736a60e9eeb907d3b93b6e0e5"
   },
   "outputs": [
    {
     "name": "stdout",
     "output_type": "stream",
     "text": [
      "/kaggle/input/digit-recognizer/sample_submission.csv\n",
      "/kaggle/input/digit-recognizer/test.csv\n",
      "/kaggle/input/digit-recognizer/train.csv\n"
     ]
    }
   ],
   "source": [
    "# This Python 3 environment comes with many helpful analytics libraries installed\n",
    "# It is defined by the kaggle/python Docker image: https://github.com/kaggle/docker-python\n",
    "# For example, here's several helpful packages to load\n",
    "\n",
    "import numpy as np # linear algebra\n",
    "import pandas as pd # data processing, CSV file I/O (e.g. pd.read_csv)\n",
    "\n",
    "# Input data files are available in the read-only \"../input/\" directory\n",
    "# For example, running this (by clicking run or pressing Shift+Enter) will list all files under the input directory\n",
    "\n",
    "import os\n",
    "for dirname, _, filenames in os.walk('/kaggle/input'):\n",
    "    for filename in filenames:\n",
    "        print(os.path.join(dirname, filename))\n",
    "\n",
    "# You can write up to 5GB to the current directory (/kaggle/working/) that gets preserved as output when you create a version using \"Save & Run All\" \n",
    "# You can also write temporary files to /kaggle/temp/, but they won't be saved outside of the current session"
   ]
  },
  {
   "cell_type": "code",
   "execution_count": 2,
   "metadata": {},
   "outputs": [],
   "source": [
    "import tensorflow as tf\n",
    "from tensorflow import keras\n",
    "from tensorflow.keras.layers import Conv2D, MaxPool2D, Flatten, Dense, Input, BatchNormalization, Dropout\n",
    "from tensorflow.keras.losses import categorical_crossentropy\n",
    "from tensorflow.keras.models import Sequential\n",
    "from tensorflow.keras.utils import to_categorical\n",
    "from tensorflow.keras.preprocessing.image import ImageDataGenerator\n",
    "import matplotlib.pyplot as plt\n",
    "\n",
    "%matplotlib inline"
   ]
  },
  {
   "cell_type": "code",
   "execution_count": 3,
   "metadata": {
    "_cell_guid": "79c7e3d0-c299-4dcb-8224-4455121ee9b0",
    "_uuid": "d629ff2d2480ee46fbb7e2d37f6b5fab8052498a"
   },
   "outputs": [],
   "source": [
    "train_df = pd.read_csv(\"/kaggle/input/digit-recognizer/train.csv\")\n",
    "test_df = pd.read_csv(\"/kaggle/input/digit-recognizer/test.csv\")"
   ]
  },
  {
   "cell_type": "code",
   "execution_count": 4,
   "metadata": {},
   "outputs": [],
   "source": [
    "# Data Preprocessing\n",
    "X_train = train_df.drop([\"label\"], axis=1)\n",
    "Y_train = train_df[\"label\"]\n",
    "\n",
    "X_train = np.array(X_train).reshape(-1, 28, 28, 1)\n",
    "Y_train = np.array(Y_train).reshape(-1, 1)\n",
    "X_test = np.array(test_df).reshape(-1, 28, 28, 1)\n",
    "\n",
    "X_train = X_train / 255\n",
    "X_test = X_test / 255\n",
    "\n",
    "Y_train = to_categorical(Y_train, num_classes=10)"
   ]
  },
  {
   "cell_type": "code",
   "execution_count": 5,
   "metadata": {},
   "outputs": [
    {
     "name": "stdout",
     "output_type": "stream",
     "text": [
      "There are 42000 training examples\n",
      "There are 28000 testing examples\n",
      "There are 10 classes\n",
      "Image shape: (28, 28, 1)\n"
     ]
    }
   ],
   "source": [
    "n_train = X_train.shape[0]\n",
    "n_test = X_test.shape[0]\n",
    "n_classes = Y_train.shape[1]\n",
    "image_size = X_train.shape[1:]\n",
    "\n",
    "print(f\"There are {n_train} training examples\")\n",
    "print(f\"There are {n_test} testing examples\")\n",
    "print(f\"There are {n_classes} classes\")\n",
    "print(f\"Image shape: {image_size}\")"
   ]
  },
  {
   "cell_type": "code",
   "execution_count": 6,
   "metadata": {},
   "outputs": [],
   "source": [
    "datagen = ImageDataGenerator(\n",
    "        rotation_range=10,  \n",
    "        zoom_range = 0.10,  \n",
    "        width_shift_range=0.1, \n",
    "        height_shift_range=0.1)\n",
    "train_gen = datagen.flow(X_train, Y_train, batch_size=64)"
   ]
  },
  {
   "cell_type": "code",
   "execution_count": 7,
   "metadata": {},
   "outputs": [
    {
     "data": {
      "text/plain": [
       "<matplotlib.image.AxesImage at 0x7fce4c043890>"
      ]
     },
     "execution_count": 7,
     "metadata": {},
     "output_type": "execute_result"
    },
    {
     "data": {
      "image/png": "[encoded data removed]",
      "text/plain": [
       "<Figure size 432x288 with 1 Axes>"
      ]
     },
     "metadata": {
      "needs_background": "light"
     },
     "output_type": "display_data"
    }
   ],
   "source": [
    "index = 5\n",
    "printing_digit = X_train[index].reshape(28, 28)\n",
    "plt.imshow(printing_digit, cmap=\"gray\")"
   ]
  },
  {
   "cell_type": "code",
   "execution_count": 8,
   "metadata": {},
   "outputs": [
    {
     "name": "stdout",
     "output_type": "stream",
     "text": [
      "Model: \"sequential\"\n",
      "_________________________________________________________________\n",
      "Layer (type)                 Output Shape              Param #   \n",
      "=================================================================\n",
      "conv2d (Conv2D)              (None, 26, 26, 32)        320       \n",
      "_________________________________________________________________\n",
      "batch_normalization (BatchNo (None, 26, 26, 32)        128       \n",
      "_________________________________________________________________\n",
      "conv2d_1 (Conv2D)            (None, 24, 24, 32)        9248      \n",
      "_________________________________________________________________\n",
      "batch_normalization_1 (Batch (None, 24, 24, 32)        128       \n",
      "_________________________________________________________________\n",
      "conv2d_2 (Conv2D)            (None, 12, 12, 32)        25632     \n",
      "_________________________________________________________________\n",
      "batch_normalization_2 (Batch (None, 12, 12, 32)        128       \n",
      "_________________________________________________________________\n",
      "dropout (Dropout)            (None, 12, 12, 32)        0         \n",
      "_________________________________________________________________\n",
      "conv2d_3 (Conv2D)            (None, 10, 10, 64)        18496     \n",
      "_________________________________________________________________\n",
      "batch_normalization_3 (Batch (None, 10, 10, 64)        256       \n",
      "_________________________________________________________________\n",
      "conv2d_4 (Conv2D)            (None, 8, 8, 64)          36928     \n",
      "_________________________________________________________________\n",
      "batch_normalization_4 (Batch (None, 8, 8, 64)          256       \n",
      "_________________________________________________________________\n",
      "conv2d_5 (Conv2D)            (None, 4, 4, 64)          102464    \n",
      "_________________________________________________________________\n",
      "batch_normalization_5 (Batch (None, 4, 4, 64)          256       \n",
      "_________________________________________________________________\n",
      "dropout_1 (Dropout)          (None, 4, 4, 64)          0         \n",
      "_________________________________________________________________\n",
      "conv2d_6 (Conv2D)            (None, 1, 1, 128)         131200    \n",
      "_________________________________________________________________\n",
      "batch_normalization_6 (Batch (None, 1, 1, 128)         512       \n",
      "_________________________________________________________________\n",
      "flatten (Flatten)            (None, 128)               0         \n",
      "_________________________________________________________________\n",
      "dropout_2 (Dropout)          (None, 128)               0         \n",
      "_________________________________________________________________\n",
      "dense (Dense)                (None, 10)                1290      \n",
      "=================================================================\n",
      "Total params: 327,242\n",
      "Trainable params: 326,410\n",
      "Non-trainable params: 832\n",
      "_________________________________________________________________\n"
     ]
    }
   ],
   "source": [
    "model = Sequential([\n",
    "    Input(shape=(28,28,1), name='digits'),\n",
    "    Conv2D(32, (3,3), activation=\"relu\"),\n",
    "    BatchNormalization(),\n",
    "    Conv2D(32, (3,3), activation=\"relu\"),\n",
    "    BatchNormalization(),\n",
    "    Conv2D(32, (5,5), strides=2, padding=\"same\", activation=\"relu\"),\n",
    "    BatchNormalization(),\n",
    "    Dropout(0.4),\n",
    "    \n",
    "    Conv2D(64, (3,3), activation=\"relu\"),\n",
    "    BatchNormalization(),\n",
    "    Conv2D(64, (3,3), activation=\"relu\"),\n",
    "    BatchNormalization(),\n",
    "    Conv2D(64, (5,5), strides=2, padding=\"same\", activation=\"relu\"),\n",
    "    BatchNormalization(),\n",
    "    Dropout(0.4),\n",
    "    \n",
    "    Conv2D(128, (4,4), activation=\"relu\"),\n",
    "    BatchNormalization(),\n",
    "    Flatten(),\n",
    "    Dropout(0.4),\n",
    "    Dense(10, activation=\"softmax\")\n",
    "])\n",
    "\n",
    "model.compile(optimizer=\"Adam\", loss=categorical_crossentropy, metrics=['accuracy'])\n",
    "\n",
    "model.summary()"
   ]
  },
  {
   "cell_type": "code",
   "execution_count": 9,
   "metadata": {},
   "outputs": [
    {
     "name": "stdout",
     "output_type": "stream",
     "text": [
      "Epoch 1/50\n",
      "657/657 [==============================] - 100s 153ms/step - loss: 0.4336 - accuracy: 0.8668\n",
      "Epoch 2/50\n",
      "657/657 [==============================] - 102s 155ms/step - loss: 0.1284 - accuracy: 0.9616\n",
      "Epoch 3/50\n",
      "657/657 [==============================] - 108s 164ms/step - loss: 0.0946 - accuracy: 0.9704\n",
      "Epoch 4/50\n",
      "657/657 [==============================] - 99s 151ms/step - loss: 0.0829 - accuracy: 0.9757\n",
      "Epoch 5/50\n",
      "657/657 [==============================] - 100s 152ms/step - loss: 0.0722 - accuracy: 0.9782\n",
      "Epoch 6/50\n",
      "657/657 [==============================] - 99s 151ms/step - loss: 0.0636 - accuracy: 0.9810\n",
      "Epoch 7/50\n",
      "657/657 [==============================] - 99s 151ms/step - loss: 0.0577 - accuracy: 0.9822\n",
      "Epoch 8/50\n",
      "657/657 [==============================] - 100s 152ms/step - loss: 0.0610 - accuracy: 0.9816\n",
      "Epoch 9/50\n",
      "657/657 [==============================] - 98s 150ms/step - loss: 0.0536 - accuracy: 0.9840\n",
      "Epoch 10/50\n",
      "657/657 [==============================] - 100s 152ms/step - loss: 0.0489 - accuracy: 0.9848\n",
      "Epoch 11/50\n",
      "657/657 [==============================] - 100s 153ms/step - loss: 0.0470 - accuracy: 0.9863\n",
      "Epoch 12/50\n",
      "657/657 [==============================] - 99s 151ms/step - loss: 0.0446 - accuracy: 0.9861\n",
      "Epoch 13/50\n",
      "657/657 [==============================] - 99s 151ms/step - loss: 0.0456 - accuracy: 0.9867\n",
      "Epoch 14/50\n",
      "657/657 [==============================] - 100s 152ms/step - loss: 0.0413 - accuracy: 0.9875\n",
      "Epoch 15/50\n",
      "657/657 [==============================] - 98s 150ms/step - loss: 0.0395 - accuracy: 0.9881\n",
      "Epoch 16/50\n",
      "657/657 [==============================] - 99s 151ms/step - loss: 0.0375 - accuracy: 0.9888\n",
      "Epoch 17/50\n",
      "657/657 [==============================] - 99s 151ms/step - loss: 0.0352 - accuracy: 0.9892\n",
      "Epoch 18/50\n",
      "657/657 [==============================] - 99s 150ms/step - loss: 0.0386 - accuracy: 0.9891\n",
      "Epoch 19/50\n",
      "657/657 [==============================] - 99s 150ms/step - loss: 0.0332 - accuracy: 0.9904\n",
      "Epoch 20/50\n",
      "657/657 [==============================] - 99s 150ms/step - loss: 0.0253 - accuracy: 0.9923\n",
      "Epoch 31/50\n",
      "657/657 [==============================] - 100s 152ms/step - loss: 0.0240 - accuracy: 0.9925\n",
      "Epoch 36/50\n",
      "657/657 [==============================] - 99s 150ms/step - loss: 0.0228 - accuracy: 0.9932\n",
      "Epoch 41/50\n",
      "657/657 [==============================] - 99s 151ms/step - loss: 0.0190 - accuracy: 0.9940\n",
      "Epoch 42/50\n",
      "657/657 [==============================] - 99s 150ms/step - loss: 0.0208 - accuracy: 0.9940\n",
      "Epoch 43/50\n",
      "513/657 [======================>.......] - ETA: 21s - loss: 0.0241 - accuracy: 0.9933"
     ]
    }
   ],
   "source": [
    "model.fit(train_gen, epochs=50)"
   ]
  },
  {
   "cell_type": "code",
   "execution_count": 10,
   "metadata": {},
   "outputs": [],
   "source": [
    "Y_pred = model.predict(X_test)\n",
    "Y_pred = np.argmax(Y_pred, axis=1)"
   ]
  },
  {
   "cell_type": "code",
   "execution_count": 11,
   "metadata": {},
   "outputs": [
    {
     "name": "stdout",
     "output_type": "stream",
     "text": [
      "7\n"
     ]
    },
    {
     "data": {
      "text/plain": [
       "<matplotlib.image.AxesImage at 0x7fce4635e250>"
      ]
     },
     "execution_count": 11,
     "metadata": {},
     "output_type": "execute_result"
    },
    {
     "data": {
      "image/png": "[encoded data removed]",
      "text/plain": [
       "<Figure size 432x288 with 1 Axes>"
      ]
     },
     "metadata": {
      "needs_background": "light"
     },
     "output_type": "display_data"
    }
   ],
   "source": [
    "index = 98\n",
    "printing_digit = X_test[index].reshape(28, 28)\n",
    "print(Y_pred[index])\n",
    "plt.imshow(printing_digit, cmap=\"gray\")"
   ]
  },
  {
   "cell_type": "code",
   "execution_count": 12,
   "metadata": {},
   "outputs": [],
   "source": [
    "submission = pd.DataFrame({\n",
    "    \"ImageId\": range(1, 28001),\n",
    "    \"Label\": Y_pred.tolist()\n",
    "})\n",
    "submission.to_csv(\"/kaggle/working/submission.csv\", index=False)"
   ]
  }
 ],
 "metadata": {
  "kernelspec": {
   "display_name": "Python 3",
   "language": "python",
   "name": "python3"
  },
  "language_info": {
   "codemirror_mode": {
    "name": "ipython",
    "version": 3
   },
   "file_extension": ".py",
   "mimetype": "text/x-python",
   "name": "python",
   "nbconvert_exporter": "python",
   "pygments_lexer": "ipython3",
   "version": "3.7.6"
  }
 },
 "nbformat": 4,
 "nbformat_minor": 4
}
